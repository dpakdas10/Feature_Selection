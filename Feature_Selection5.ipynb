{
  "cells": [
    {
      "cell_type": "code",
      "execution_count": null,
      "metadata": {
        "id": "YOBAmMqlCfYR",
        "outputId": "099f60f6-df49-4ddb-c737-e962edcdf004"
      },
      "outputs": [
        {
          "ename": "ModuleNotFoundError",
          "evalue": "No module named 'pandas'",
          "output_type": "error",
          "traceback": [
            "\u001b[0;31m---------------------------------------------------------------------------\u001b[0m",
            "\u001b[0;31mModuleNotFoundError\u001b[0m                       Traceback (most recent call last)",
            "Cell \u001b[0;32mIn[1], line 1\u001b[0m\n\u001b[0;32m----> 1\u001b[0m \u001b[38;5;28;01mimport\u001b[39;00m \u001b[38;5;21;01mpandas\u001b[39;00m \u001b[38;5;28;01mas\u001b[39;00m \u001b[38;5;21;01mpd\u001b[39;00m\n\u001b[1;32m      2\u001b[0m \u001b[38;5;28;01mfrom\u001b[39;00m \u001b[38;5;21;01msklearn\u001b[39;00m\u001b[38;5;21;01m.\u001b[39;00m\u001b[38;5;21;01mdatasets\u001b[39;00m \u001b[38;5;28;01mimport\u001b[39;00m load_diabetes\n\u001b[1;32m      3\u001b[0m \u001b[38;5;28;01mfrom\u001b[39;00m \u001b[38;5;21;01msklearn\u001b[39;00m\u001b[38;5;21;01m.\u001b[39;00m\u001b[38;5;21;01mmodel_selection\u001b[39;00m \u001b[38;5;28;01mimport\u001b[39;00m train_test_split\n",
            "\u001b[0;31mModuleNotFoundError\u001b[0m: No module named 'pandas'"
          ]
        }
      ],
      "source": [
        "import pandas as pd\n",
        "from sklearn.datasets import load_diabetes\n",
        "from sklearn.model_selection import train_test_split\n",
        "from sklearn.tree import DecisionTreeClassifier\n",
        "from sklearn.feature_selection import RFE\n",
        "\n",
        "# Load the Diabetes dataset\n",
        "diabetes = load_diabetes(as_frame=True)\n",
        "X = diabetes.data\n",
        "y = (diabetes.target > diabetes.target.median()).astype(int)  # Binarize the target\n",
        "\n",
        "# Split the data into training and testing sets\n",
        "X_train, X_test, y_train, y_test = train_test_split(X, y, test_size=0.2, random_state=42)\n"
      ]
    },
    {
      "cell_type": "code",
      "execution_count": null,
      "metadata": {
        "colab": {
          "base_uri": "https://localhost:8080/"
        },
        "id": "dvc12EFpCwHi",
        "outputId": "7977bf10-f241-49e0-cdd2-8dc96871b7cc"
      },
      "outputs": [
        {
          "name": "stdout",
          "output_type": "stream",
          "text": [
            "Selected features after backward elimination: Index(['bmi'], dtype='object')\n",
            "Model accuracy with selected features: 0.7191\n"
          ]
        }
      ],
      "source": [
        "# Initialize the Decision Tree Classifier\n",
        "dt_classifier = DecisionTreeClassifier(random_state=42)\n",
        "\n",
        "# Initialize RFE for backward feature elimination\n",
        "rfe = RFE(estimator=dt_classifier, n_features_to_select=1)  # 1 feature left\n",
        "\n",
        "# Fit RFE\n",
        "rfe.fit(X_train, y_train)\n",
        "\n",
        "# Get selected features\n",
        "selected_features = X.columns[rfe.support_]\n",
        "print(f\"Selected features after backward elimination: {selected_features}\")\n",
        "\n",
        "# Evaluate model performance with the final set of features\n",
        "final_model = DecisionTreeClassifier(random_state=42)\n",
        "final_model.fit(X_train[selected_features], y_train)\n",
        "accuracy = final_model.score(X_test[selected_features], y_test)\n",
        "print(f\"Model accuracy with selected features: {accuracy:.4f}\")\n"
      ]
    },
    {
      "cell_type": "markdown",
      "metadata": {
        "id": "lRdS6Ur9C3eY"
      },
      "source": [
        "Melbourne Datasets\n"
      ]
    },
    {
      "cell_type": "code",
      "execution_count": null,
      "metadata": {
        "id": "-GpKV1eMCzbs"
      },
      "outputs": [],
      "source": [
        "import pandas as pd\n",
        "from sklearn.model_selection import train_test_split\n",
        "from sklearn.ensemble import RandomForestRegressor\n",
        "from sklearn.feature_selection import RFE\n",
        "from sklearn.impute import SimpleImputer\n",
        "from sklearn.preprocessing import OneHotEncoder\n",
        "from sklearn.compose import ColumnTransformer\n",
        "\n",
        "# Load the dataset\n",
        "data = pd.read_csv('melbourne.csv')\n",
        "\n",
        "# Check for missing values in the target column\n",
        "if data['Price'].isnull().any():\n",
        "    data = data.dropna(subset=['Price'])\n",
        "\n",
        "# Separate target and features\n",
        "X = data.drop('Price', axis=1)\n",
        "y = data['Price']\n",
        "\n",
        "\n",
        "# List of categorical columns (adjust based on your dataset)\n",
        "categorical_cols = X_train.select_dtypes(include=['object']).columns\n",
        "\n",
        "# Define a preprocessing pipeline\n",
        "preprocessor = ColumnTransformer(\n",
        "    transformers=[\n",
        "        ('num', SimpleImputer(strategy='mean'), X_train.select_dtypes(exclude=['object']).columns),\n",
        "        ('cat', OneHotEncoder(handle_unknown='ignore'), categorical_cols)\n",
        "    ]\n",
        ")\n",
        "\n",
        "\n",
        "# Split the data into training and testing sets\n",
        "X_train, X_test, y_train, y_test = train_test_split(X, y, test_size=0.2, random_state=42)\n",
        "\n",
        "# List of categorical columns\n",
        "categorical_cols = X_train.select_dtypes(include=['object']).columns\n",
        "\n",
        "# Define a preprocessing pipeline\n",
        "preprocessor = ColumnTransformer(\n",
        "    transformers=[\n",
        "        ('num', SimpleImputer(strategy='mean'), X_train.select_dtypes(exclude=['object']).columns),\n",
        "        ('cat', OneHotEncoder(handle_unknown='ignore'), categorical_cols)\n",
        "    ]\n",
        ")\n",
        "\n",
        "# Fit the preprocessor to training data\n",
        "X_train = preprocessor.fit_transform(X_train)\n",
        "X_test = preprocessor.transform(X_test)\n"
      ]
    },
    {
      "cell_type": "code",
      "execution_count": null,
      "metadata": {
        "id": "F0MaMY8vC-o4"
      },
      "outputs": [],
      "source": [
        "# Initialize the Random Forest Regressor\n",
        "rf_regressor = RandomForestRegressor(random_state=42)\n",
        "\n",
        "# Initialize RFE for backward feature elimination\n",
        "rfe = RFE(estimator=rf_regressor, n_features_to_select=1)  # 1 feature left\n",
        "\n",
        "# Fit RFE\n",
        "rfe.fit(X_train, y_train)\n",
        "\n",
        "# Get selected features\n",
        "selected_features = rfe.support_\n",
        "selected_feature_names = X_train.columns[selected_features]\n",
        "print(f\"Selected features after backward elimination: {selected_feature_names}\")\n",
        "\n",
        "# Evaluate model performance with the final set of features\n",
        "final_model = RandomForestRegressor(random_state=42)\n",
        "final_model.fit(X_train[:, selected_features], y_train)\n",
        "accuracy = final_model.score(X_test[:, selected_features], y_test)\n",
        "print(f\"Model R² with selected features: {accuracy:.4f}\")\n"
      ]
    }
  ],
  "metadata": {
    "colab": {
      "provenance": []
    },
    "kernelspec": {
      "display_name": "Python 3",
      "name": "python3"
    },
    "language_info": {
      "codemirror_mode": {
        "name": "ipython",
        "version": 3
      },
      "file_extension": ".py",
      "mimetype": "text/x-python",
      "name": "python",
      "nbconvert_exporter": "python",
      "pygments_lexer": "ipython3",
      "version": "3.9.6"
    }
  },
  "nbformat": 4,
  "nbformat_minor": 0
}